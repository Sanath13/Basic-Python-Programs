{
 "cells": [
  {
   "cell_type": "code",
   "execution_count": 1,
   "metadata": {},
   "outputs": [
    {
     "name": "stdout",
     "output_type": "stream",
     "text": [
      "[120, 60, 40, 30, 24]\n"
     ]
    }
   ],
   "source": [
    "'''This problem was asked by Uber.\n",
    "\n",
    "Given an array of integers, \n",
    "return a new array such that each element at index i of the new array is the product of all the numbers in the original array \n",
    "except the one at i.\n",
    "\n",
    "For example, if our input was [1, 2, 3, 4, 5], the expected output would be [120, 60, 40, 30, 24]. \n",
    "If our input was [3, 2, 1], the expected output would be [2, 3, 6].'''\n",
    "\n",
    "lst = [1, 2, 3, 4, 5]\n",
    "\n",
    "new_lst = []\n",
    "for i in range(len(lst)):\n",
    "    prod = 1\n",
    "    for j in range(len(lst)):\n",
    "        if j == i:\n",
    "            continue\n",
    "        else:\n",
    "            prod = prod * lst[j]\n",
    "    new_lst.append(prod)  \n",
    "print(new_lst)"
   ]
  }
 ],
 "metadata": {
  "kernelspec": {
   "display_name": "Python 3",
   "language": "python",
   "name": "python3"
  },
  "language_info": {
   "codemirror_mode": {
    "name": "ipython",
    "version": 3
   },
   "file_extension": ".py",
   "mimetype": "text/x-python",
   "name": "python",
   "nbconvert_exporter": "python",
   "pygments_lexer": "ipython3",
   "version": "3.8.5"
  }
 },
 "nbformat": 4,
 "nbformat_minor": 4
}
