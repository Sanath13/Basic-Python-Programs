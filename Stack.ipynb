{
 "cells": [
  {
   "cell_type": "code",
   "execution_count": 6,
   "metadata": {},
   "outputs": [
    {
     "name": "stdout",
     "output_type": "stream",
     "text": [
      "Enter 1 for push, 2 for pop and 3 to exit\n",
      "What would you like to do? 1\n",
      "Enter an element:10\n",
      "\n",
      "Enter 1 for push, 2 for pop and 3 to exit\n",
      "What would you like to do? 1\n",
      "Enter an element:20\n",
      "\n",
      "Enter 1 for push, 2 for pop and 3 to exit\n",
      "What would you like to do? 2\n",
      "Popped value: 20\n",
      "\n",
      "Enter 1 for push, 2 for pop and 3 to exit\n",
      "What would you like to do? 2\n",
      "Popped value: 10\n",
      "\n",
      "Enter 1 for push, 2 for pop and 3 to exit\n",
      "What would you like to do? 2\n",
      "Stack is empty\n",
      "\n",
      "Enter 1 for push, 2 for pop and 3 to exit\n",
      "What would you like to do? 3\n",
      "---Exit---\n"
     ]
    }
   ],
   "source": [
    "class Stack:\n",
    "    def __init__(self):\n",
    "        self.x = []                     # Create empty stack\n",
    "\n",
    "    def is_empty(self):\n",
    "        return self.x == []             # Return whether stack is empty or not, returns 0 or 1\n",
    "\n",
    "    def push(self,data):\n",
    "        self.x.append(data)             # Add data to the stack\n",
    "\n",
    "    def pop(self):\n",
    "        return self.x.pop()             # Remove data from the stack\n",
    "\n",
    "\n",
    "s = Stack()\n",
    "while True:\n",
    "    print(\"Enter 1 for push, 2 for pop and 3 to exit\")\n",
    "    do = int(input(\"What would you like to do? \"))\n",
    "    if do == 1:\n",
    "        data = int(input(\"Enter an element:\"))\n",
    "        s.push(data)\n",
    "        print()                         # Just a blank line to give extra space\n",
    "    elif do == 2:\n",
    "        if s.is_empty():\n",
    "            print(\"Stack is empty\")\n",
    "            print()\n",
    "        else:\n",
    "            print(\"Popped value:\",s.pop())\n",
    "            print()\n",
    "    elif do == 3:\n",
    "        print(\"---Exit---\")\n",
    "        break\n"
   ]
  },
  {
   "cell_type": "code",
   "execution_count": null,
   "metadata": {},
   "outputs": [],
   "source": []
  }
 ],
 "metadata": {
  "kernelspec": {
   "display_name": "Python 3",
   "language": "python",
   "name": "python3"
  },
  "language_info": {
   "codemirror_mode": {
    "name": "ipython",
    "version": 3
   },
   "file_extension": ".py",
   "mimetype": "text/x-python",
   "name": "python",
   "nbconvert_exporter": "python",
   "pygments_lexer": "ipython3",
   "version": "3.8.5"
  }
 },
 "nbformat": 4,
 "nbformat_minor": 4
}
