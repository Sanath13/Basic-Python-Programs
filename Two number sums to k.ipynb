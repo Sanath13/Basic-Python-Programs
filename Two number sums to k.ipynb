{
 "cells": [
  {
   "cell_type": "code",
   "execution_count": 1,
   "metadata": {},
   "outputs": [
    {
     "name": "stdout",
     "output_type": "stream",
     "text": [
      "True\n"
     ]
    }
   ],
   "source": [
    "'''Given a list of numbers, return whether any two sums to k. \n",
    "For example, given [10, 15, 3, 7] and k of 17, return true since 10 + 7 is 17.'''\n",
    "\n",
    "lst = [10, 15, 3, 7]\n",
    "k = 18\n",
    "flag = 0\n",
    "\n",
    "for i in range(len(lst)):\n",
    "    for j in range(i+1, len(lst)):\n",
    "        if lst[i] + lst[j] == k:\n",
    "            flag = 1\n",
    "            \n",
    "if flag == 1:\n",
    "    print('True')\n",
    "else:\n",
    "    print('False')"
   ]
  }
 ],
 "metadata": {
  "kernelspec": {
   "display_name": "Python 3",
   "language": "python",
   "name": "python3"
  },
  "language_info": {
   "codemirror_mode": {
    "name": "ipython",
    "version": 3
   },
   "file_extension": ".py",
   "mimetype": "text/x-python",
   "name": "python",
   "nbconvert_exporter": "python",
   "pygments_lexer": "ipython3",
   "version": "3.8.5"
  }
 },
 "nbformat": 4,
 "nbformat_minor": 4
}
